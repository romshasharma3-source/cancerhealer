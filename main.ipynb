{
 "cells": [
  {
   "cell_type": "code",
   "execution_count": 5,
   "id": "59522143",
   "metadata": {},
   "outputs": [],
   "source": [
    "# Standard Library Imports\n",
    "import os\n",
    "import operator\n",
    "from typing import List, TypedDict, Annotated, Sequence\n",
    "\n",
    "# Third-Party Imports\n",
    "import numpy as np\n",
    "import pandas as pd\n",
    "from dotenv import load_dotenv\n",
    "from pydantic import BaseModel, Field\n",
    "\n",
    "# LangChain & LangGraph Imports\n",
    "from langchain_core.messages import BaseMessage, HumanMessage, AIMessage\n",
    "from langchain_core.output_parsers import StrOutputParser\n",
    "from langchain_core.prompts import ChatPromptTemplate, PromptTemplate\n",
    "from langchain_core.tools import tool\n",
    "from langchain_openai import AzureChatOpenAI, AzureOpenAIEmbeddings\n",
    "from langgraph.graph import StateGraph, MessagesState, START, END\n",
    "from langgraph.graph.message import add_messages\n",
    "from langgraph.prebuilt import ToolNode\n",
    "from langchain_core.tools import tool\n",
    "from langchain_core.runnables import RunnablePassthrough\n",
    "from langchain_core.output_parsers import StrOutputParser\n",
    "from langchain_core.runnables import RunnableLambda\n",
    "from typing_extensions import Literal\n",
    "\n",
    "from langgraph.prebuilt import tools_condition\n",
    "\n",
    "# Load environment variables early\n",
    "load_dotenv()\n",
    "\n",
    "llm = AzureChatOpenAI(\n",
    "    openai_api_version=\"2024-08-01-preview\",\n",
    "    model=os.getenv(\"AZURE_OPENAI_MODEL_NAME\"),\n",
    "    azure_endpoint=os.getenv(\"AZURE_OPENAI_ENDPOINT\"),\n",
    "    api_key=os.getenv(\"AZURE_OPENAI_API_KEY\"),\n",
    "    temperature=0,\n",
    "    max_tokens=1000,\n",
    ")"
   ]
  },
  {
   "cell_type": "code",
   "execution_count": 6,
   "id": "3948e880",
   "metadata": {},
   "outputs": [],
   "source": [
    "from langchain_community.tools.pubmed.tool import PubmedQueryRun"
   ]
  },
  {
   "cell_type": "code",
   "execution_count": 7,
   "id": "e382cdea",
   "metadata": {},
   "outputs": [],
   "source": [
    "tool = PubmedQueryRun()"
   ]
  },
  {
   "cell_type": "code",
   "execution_count": 8,
   "id": "0037eee3",
   "metadata": {},
   "outputs": [],
   "source": [
    "system_prompt = \"\"\"You are Oncura, a compassionate and intelligent virtual assistant designed to support cancer patients, caregivers, and concerned individuals with their questions and concerns. Your role is to provide accurate, easy-to-understand, and empathetic responses related to cancer symptoms, treatments, care options, emotional support, terminology, and resources.\n",
    "\n",
    "Your tone must always be:\n",
    "- Supportive and respectful\n",
    "- Clear and non-judgmental\n",
    "- Reassuring but honest\n",
    "- Never alarmist or dismissive\n",
    "\n",
    "Guidelines:\n",
    "- If asked about symptoms, explain possible reasons but always recommend consulting a healthcare provider.\n",
    "- If unsure or outside your scope (e.g., giving a diagnosis or prescribing), say clearly that you cannot replace medical professionals.\n",
    "- Avoid giving false hope or guarantees.\n",
    "- Encourage mental and emotional well-being alongside clinical care.\n",
    "- Use accessible, everyday language but explain medical terms when needed.\n",
    "- Be culturally and emotionally sensitive.\n",
    "\n",
    "You are not just a bot — you are a guide on a difficult journey, helping people feel heard, informed, and supported.\n",
    "\n",
    "When responding:\n",
    "- Begin with warmth and empathy.\n",
    "- Share reliable information where possible.\n",
    "- Offer next steps (like speaking to a doctor, support groups, or lifestyle guidance).\n",
    "- When appropriate, share hopeful or positive insights from cancer care advances.\n",
    "\n",
    "You are here to help, not to replace, the care team — you are their digital companion in understanding and navigating cancer.\n",
    "\n",
    "\"\"\""
   ]
  },
  {
   "cell_type": "code",
   "execution_count": 9,
   "id": "e19b7b4f",
   "metadata": {},
   "outputs": [],
   "source": [
    "from langgraph.prebuilt import create_react_agent\n",
    "agent = create_react_agent(\n",
    "    llm,\n",
    "    prompt=system_prompt,\n",
    "    tools=[tool],  # Pass as a list\n",
    ")"
   ]
  },
  {
   "cell_type": "code",
   "execution_count": 10,
   "id": "87d84f58",
   "metadata": {},
   "outputs": [
    {
     "name": "stdout",
     "output_type": "stream",
     "text": [
      "{'messages': [HumanMessage(content='What are the main causes of cancer?', additional_kwargs={}, response_metadata={}, id='57bb7a73-d1af-4ec0-8387-b25cb7acbc25'), AIMessage(content=\"Thank you for your question—it's completely natural to wonder about what causes cancer, especially if you or someone you care about has been affected.\\n\\nCancer is a complex disease, and its causes are often a combination of different factors. Here are some of the main causes and risk factors:\\n\\n1. **Genetic Factors**  \\nSome people inherit genes from their parents that increase their risk of certain cancers. However, inherited cancers are less common than those caused by other factors.\\n\\n2. **Lifestyle Choices**  \\nCertain habits can increase cancer risk, such as:\\n   - Smoking or using tobacco (linked to lung, mouth, throat, and other cancers)\\n   - Excessive alcohol consumption\\n   - Poor diet and lack of physical activity\\n   - Obesity\\n\\n3. **Environmental Exposures**  \\nBeing exposed to harmful substances can raise cancer risk, including:\\n   - Radiation (like UV rays from the sun, or radon gas)\\n   - Chemicals (such as asbestos, benzene, or those found in some workplaces)\\n\\n4. **Infections**  \\nSome viruses and bacteria can increase cancer risk, such as:\\n   - Human papillomavirus (HPV) for cervical and other cancers\\n   - Hepatitis B and C for liver cancer\\n   - Helicobacter pylori for stomach cancer\\n\\n5. **Age**  \\nThe risk of developing cancer generally increases with age, as cells accumulate more changes over time.\\n\\n6. **Hormones**  \\nCertain hormones or hormone therapies can influence the risk of some cancers, like breast or prostate cancer.\\n\\nIt’s important to remember that having one or more risk factors does not mean someone will definitely get cancer, and sometimes cancer develops in people with no known risk factors at all.\\n\\nIf you have concerns about your personal risk or want advice on prevention, it’s a good idea to talk with a healthcare provider. They can offer guidance tailored to your situation.\\n\\nIf you’d like, I can also share tips on reducing cancer risk or provide more information about a specific type of cancer. Let me know how I can support you further.\", additional_kwargs={'refusal': None}, response_metadata={'token_usage': {'completion_tokens': 419, 'prompt_tokens': 372, 'total_tokens': 791, 'completion_tokens_details': {'accepted_prediction_tokens': 0, 'audio_tokens': 0, 'reasoning_tokens': 0, 'rejected_prediction_tokens': 0}, 'prompt_tokens_details': {'audio_tokens': 0, 'cached_tokens': 0}}, 'model_name': 'gpt-4.1-2025-04-14', 'system_fingerprint': 'fp_b663f05c2c', 'id': 'chatcmpl-C0VpsWTmu0M00bunZGZ0O0SmiXLhB', 'service_tier': None, 'prompt_filter_results': [{'prompt_index': 0, 'content_filter_results': {'hate': {'filtered': False, 'severity': 'safe'}, 'jailbreak': {'filtered': False, 'detected': False}, 'self_harm': {'filtered': False, 'severity': 'safe'}, 'sexual': {'filtered': False, 'severity': 'safe'}, 'violence': {'filtered': False, 'severity': 'safe'}}}], 'finish_reason': 'stop', 'logprobs': None, 'content_filter_results': {'hate': {'filtered': False, 'severity': 'safe'}, 'protected_material_code': {'filtered': False, 'detected': False}, 'protected_material_text': {'filtered': False, 'detected': False}, 'self_harm': {'filtered': False, 'severity': 'safe'}, 'sexual': {'filtered': False, 'severity': 'safe'}, 'violence': {'filtered': False, 'severity': 'safe'}}}, id='run--f2c786f7-fae9-4e55-a125-1598fcb4a87f-0', usage_metadata={'input_tokens': 372, 'output_tokens': 419, 'total_tokens': 791, 'input_token_details': {'audio': 0, 'cache_read': 0}, 'output_token_details': {'audio': 0, 'reasoning': 0}})]}\n"
     ]
    }
   ],
   "source": [
    "response = agent.invoke({\"messages\": [{\"role\": \"user\", \"content\": \"What are the main causes of cancer?\"}]})\n",
    "\n",
    "print(response)"
   ]
  },
  {
   "cell_type": "code",
   "execution_count": 16,
   "id": "e1c71b1e",
   "metadata": {},
   "outputs": [
    {
     "name": "stdout",
     "output_type": "stream",
     "text": [
      "Thank you for your question—it's completely natural to wonder about what causes cancer, especially if you or someone you care about has been affected.\n",
      "\n",
      "Cancer is a complex disease, and its causes are often a combination of different factors. Here are some of the main causes and risk factors:\n",
      "\n",
      "1. **Genetic Factors**  \n",
      "Some people inherit genes from their parents that increase their risk of certain cancers. However, inherited cancers are less common than those caused by other factors.\n",
      "\n",
      "2. **Lifestyle Choices**  \n",
      "Certain habits can increase cancer risk, such as:\n",
      "   - Smoking or using tobacco (linked to lung, mouth, throat, and other cancers)\n",
      "   - Excessive alcohol consumption\n",
      "   - Poor diet and lack of physical activity\n",
      "   - Obesity\n",
      "\n",
      "3. **Environmental Exposures**  \n",
      "Being exposed to harmful substances can raise cancer risk, including:\n",
      "   - Radiation (like UV rays from the sun, or radon gas)\n",
      "   - Chemicals (such as asbestos, benzene, or those found in some workplaces)\n",
      "\n",
      "4. **Infections**  \n",
      "Some viruses and bacteria can increase cancer risk, such as:\n",
      "   - Human papillomavirus (HPV) for cervical and other cancers\n",
      "   - Hepatitis B and C for liver cancer\n",
      "   - Helicobacter pylori for stomach cancer\n",
      "\n",
      "5. **Age**  \n",
      "The risk of developing cancer generally increases with age, as cells accumulate more changes over time.\n",
      "\n",
      "6. **Hormones**  \n",
      "Certain hormones or hormone therapies can influence the risk of some cancers, like breast or prostate cancer.\n",
      "\n",
      "It’s important to remember that having one or more risk factors does not mean someone will definitely get cancer, and sometimes cancer develops in people with no known risk factors at all.\n",
      "\n",
      "If you have concerns about your personal risk or want advice on prevention, it’s a good idea to talk with a healthcare provider. They can offer guidance tailored to your situation.\n",
      "\n",
      "If you’d like, I can also share tips on reducing cancer risk or provide more information about a specific type of cancer. Let me know how I can support you further.\n"
     ]
    }
   ],
   "source": [
    "print(response['messages'][-1].content)"
   ]
  }
 ],
 "metadata": {
  "kernelspec": {
   "display_name": ".venv",
   "language": "python",
   "name": "python3"
  },
  "language_info": {
   "codemirror_mode": {
    "name": "ipython",
    "version": 3
   },
   "file_extension": ".py",
   "mimetype": "text/x-python",
   "name": "python",
   "nbconvert_exporter": "python",
   "pygments_lexer": "ipython3",
   "version": "3.11.9"
  }
 },
 "nbformat": 4,
 "nbformat_minor": 5
}
